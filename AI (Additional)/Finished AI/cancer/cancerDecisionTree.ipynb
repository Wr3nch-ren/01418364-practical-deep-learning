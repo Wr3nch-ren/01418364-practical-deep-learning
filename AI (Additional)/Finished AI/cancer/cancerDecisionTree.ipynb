{
 "cells": [
  {
   "cell_type": "code",
   "execution_count": null,
   "metadata": {},
   "outputs": [],
   "source": [
    "# Library used\n",
    "import numpy as np\n",
    "import pandas as pd\n",
    "from sklearn import metrics\n",
    "from sklearn.model_selection import train_test_split\n",
    "from sklearn.tree import DecisionTreeClassifier\n",
    "from sklearn.preprocessing import LabelEncoder, OneHotEncoder\n",
    "from sklearn.tree import export_graphviz\n",
    "from six import StringIO\n",
    "from IPython.display import Image\n",
    "import pydotplus"
   ]
  },
  {
   "cell_type": "code",
   "execution_count": null,
   "metadata": {},
   "outputs": [],
   "source": [
    "# Function to import csv data from url\n",
    "def importdata(url):\n",
    "    product_df = pd.read_csv(\n",
    "        url)\n",
    "    # Displaying dataset information\n",
    "    print(\"Dataset Length: \", len(product_df))\n",
    "    print(\"Dataset Shape: \", product_df.shape)\n",
    "    print(\"Dataset: \\n\", product_df.head())\n",
    "\n",
    "    return product_df"
   ]
  },
  {
   "cell_type": "code",
   "execution_count": null,
   "metadata": {},
   "outputs": [],
   "source": [
    "# Function for splitting dataset into 70% train and 30% test\n",
    "def splitdataset(balance_data):\n",
    "    # Separating the targe variable\n",
    "    X = balance_data.iloc[:, :-1]\n",
    "    Y = balance_data[\"CA level\"].values\n",
    "    \n",
    "    # Checking if X and Y are string before encoding\n",
    "    isXString = False\n",
    "    isYString = False\n",
    "    for i in X:\n",
    "        if isinstance(i, str):\n",
    "            isXString = True\n",
    "    for i in Y:\n",
    "        if isinstance(i, str):\n",
    "            isYString = True\n",
    "    \n",
    "    # Label Encoding\n",
    "    if isXString:\n",
    "        le = LabelEncoder()\n",
    "        X = X.apply(le.fit_transform)\n",
    "    if isYString:\n",
    "        le = LabelEncoder()\n",
    "        Y = Y.apply(le.fit_transform)\n",
    "    # Splitting the dataset into train and test\n",
    "    X_train, X_test, y_train, y_test = train_test_split(\n",
    "        X, Y, test_size=0.3, random_state=100\n",
    "    )\n",
    "    \n",
    "    return X, Y, X_train, X_test, y_train, y_test"
   ]
  },
  {
   "cell_type": "code",
   "execution_count": null,
   "metadata": {},
   "outputs": [],
   "source": [
    "# Function to perform training algorithms\n",
    "\n",
    "# Using Gini Index\n",
    "def train_using_gini(X_train, X_test, y_train):\n",
    "    \n",
    "    # Creating the classifier object\n",
    "    clf_gini = DecisionTreeClassifier(criterion=\"gini\",\n",
    "                                      random_state=100, class_weight='balanced')#, max_depth=3, min_samples_leaf=5)\n",
    "    # Performing training\n",
    "    clf_gini.fit(X_train, y_train)\n",
    "    return clf_gini\n",
    "\n",
    "# Using Entropy\n",
    "def train_using_entropy(X_train, X_test, y_train):\n",
    "    # Creating the classifier object\n",
    "    clf_entropy = DecisionTreeClassifier(criterion=\"entropy\",\n",
    "                                      random_state=100, class_weight='balanced')#, max_depth=3, min_samples_leaf=5)\n",
    "    # Performing training\n",
    "    clf_entropy.fit(X_train, y_train)\n",
    "    return clf_entropy"
   ]
  },
  {
   "cell_type": "code",
   "execution_count": null,
   "metadata": {},
   "outputs": [],
   "source": [
    "# Function to make predictions\n",
    "def prediction(X_test, clf_object):\n",
    "    y_pred = clf_object.predict(X_test)\n",
    "    print(\"Predicted values:\", y_pred)\n",
    "    return y_pred"
   ]
  },
  {
   "cell_type": "code",
   "execution_count": null,
   "metadata": {},
   "outputs": [],
   "source": [
    "# Placeholder function for cal_accuracy\n",
    "def cal_accuracy(y_test, y_pred):\n",
    "    print(\"Confusion Matrix: \",\n",
    "          metrics.confusion_matrix(y_test, y_pred))\n",
    "    print(\"Accuracy : \",\n",
    "          metrics.accuracy_score(y_test, y_pred)*100)\n",
    "    print(\"Report : \",\n",
    "          metrics.classification_report(y_test, y_pred))"
   ]
  },
  {
   "cell_type": "code",
   "execution_count": null,
   "metadata": {},
   "outputs": [],
   "source": [
    "# Driver code\n",
    "url = \"cancer.csv\"\n",
    "data = importdata(url)\n",
    "X, Y, X_train, X_test, y_train, y_test = splitdataset(data)"
   ]
  },
  {
   "cell_type": "code",
   "execution_count": null,
   "metadata": {},
   "outputs": [],
   "source": [
    "# Training using gini and entropy\n",
    "clf_gini = train_using_gini(X_train, X_test, y_train)\n",
    "clf_entropy = train_using_entropy(X_train, X_test, y_train)"
   ]
  },
  {
   "cell_type": "code",
   "execution_count": null,
   "metadata": {},
   "outputs": [],
   "source": [
    "# Visualize decision tree\n",
    "\n",
    "dot_data = StringIO()\n",
    "export_graphviz(clf_gini, out_file=dot_data,\n",
    "                filled=True, rounded=True,\n",
    "                special_characters=True, feature_names=X.columns, class_names=['A','B','C','D'])\n",
    "graph = pydotplus.graph_from_dot_data(dot_data.getvalue())\n",
    "graph.write_png('cancer_gini.png')\n",
    "Image(graph.create_png())\n",
    "\n",
    "dot_data = StringIO()\n",
    "export_graphviz(clf_entropy, out_file=dot_data,\n",
    "                filled=True, rounded=True,\n",
    "                special_characters=True, feature_names=X.columns, class_names=['A','B','C','D'])\n",
    "graph = pydotplus.graph_from_dot_data(dot_data.getvalue())\n",
    "graph.write_png('cancer_entropy.png')\n",
    "Image(graph.create_png())"
   ]
  },
  {
   "cell_type": "code",
   "execution_count": null,
   "metadata": {},
   "outputs": [],
   "source": [
    "# Operational Phase\n",
    "print(\"Results Using Gini Index:\")\n",
    "y_pred_gini = prediction(X_test, clf_gini)\n",
    "cal_accuracy(y_test, y_pred_gini)\n",
    "\n",
    "print(\"Results Using Entropy:\")\n",
    "y_pred_entropy = prediction(X_test, clf_entropy)\n",
    "cal_accuracy(y_test, y_pred_entropy)"
   ]
  }
 ],
 "metadata": {
  "kernelspec": {
   "display_name": "dl_env",
   "language": "python",
   "name": "python3"
  },
  "language_info": {
   "name": "python",
   "version": "3.10.13"
  }
 },
 "nbformat": 4,
 "nbformat_minor": 2
}
