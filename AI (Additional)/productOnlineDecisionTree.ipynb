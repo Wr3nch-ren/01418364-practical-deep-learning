{
 "cells": [
  {
   "cell_type": "markdown",
   "metadata": {},
   "source": [
    "# Data details sorted by column\n",
    "Data taken: productOnline.csv\n",
    "1. brand\n",
    "2. product name\n",
    "3. class (target for classification)\n",
    "- A = highest bought\n",
    "- B = high bought\n",
    "- C = medium bought\n",
    "- D = low bought\n",
    "4. procesor\n",
    "5. CPU\n",
    "6. Ram\n",
    "7. Ram_type\n",
    "8. ROM\n",
    "9. ROM_Type\n",
    "10. GPU\n",
    "11. display_size\n",
    "12. OS\n",
    "13. warranty\n",
    "(1-2, 4-13 = x, 3 = output)"
   ]
  },
  {
   "cell_type": "markdown",
   "metadata": {},
   "source": [
    "### ให้นิสิตใช้ขั้นตอนวิธีต้นไม้ตัดสินใจเรียนรู้จากชุดข้อมูล productOnline วัดประสิทธิภาพ และแสดงผลภาพต้นไม้"
   ]
  },
  {
   "cell_type": "code",
   "execution_count": null,
   "metadata": {
    "vscode": {
     "languageId": "plaintext"
    }
   },
   "outputs": [],
   "source": [
    "import numpy as np\n",
    "import pandas as pd\n",
    "from sklearn import metrics\n",
    "from sklearn.model_selection import train_test_split\n",
    "from sklearn.tree import DecisionTreeClassifier\n",
    "import matplotlib as plt"
   ]
  }
 ],
 "metadata": {
  "language_info": {
   "name": "python"
  }
 },
 "nbformat": 4,
 "nbformat_minor": 2
}
